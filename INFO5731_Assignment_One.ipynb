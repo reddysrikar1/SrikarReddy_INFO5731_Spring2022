{
  "cells": [
    {
      "cell_type": "markdown",
      "metadata": {
        "id": "view-in-github",
        "colab_type": "text"
      },
      "source": [
        "<a href=\"https://colab.research.google.com/github/reddysrikar1/SrikarReddy_INFO5731_Spring2022/blob/main/INFO5731_Assignment_One.ipynb\" target=\"_parent\"><img src=\"https://colab.research.google.com/assets/colab-badge.svg\" alt=\"Open In Colab\"/></a>"
      ]
    },
    {
      "cell_type": "markdown",
      "metadata": {
        "id": "Ryk8D1Q4Wsrp"
      },
      "source": [
        "# **INFO5731 Assignment One**"
      ]
    },
    {
      "cell_type": "markdown",
      "metadata": {
        "id": "90_NR8c5XGWc"
      },
      "source": [
        "# Question 1\n",
        "\n",
        "(20 points). Write a Python program to generate 12 random numbers between 1 and 100. Sort the list of numbers in ascending order and print it out. Sort the list of numbers in descending order and print it out. Calculate the average for the group and print it out."
      ]
    },
    {
      "cell_type": "code",
      "execution_count": 1,
      "metadata": {
        "id": "5QX6bJjGWXY9",
        "colab": {
          "base_uri": "https://localhost:8080/"
        },
        "outputId": "0aece43f-a733-44e7-a92e-9125b74e48cc"
      },
      "outputs": [
        {
          "output_type": "stream",
          "name": "stdout",
          "text": [
            "[11, 21, 26, 31, 33, 40, 41, 78, 78, 83, 93, 97]\n",
            "[97, 93, 83, 78, 78, 41, 40, 33, 31, 26, 21, 11]\n"
          ]
        }
      ],
      "source": [
        "# Your code here\n",
        "\n",
        "import random\n",
        "genlist = []\n",
        "for i in range(0, 12):\n",
        " x = random.randint(1, 100)\n",
        " genlist.append(x)\n",
        "a = sorted(genlist)\n",
        "print(a)\n",
        "b = sorted(genlist, reverse = True)\n",
        "print(b)\n"
      ]
    },
    {
      "cell_type": "markdown",
      "metadata": {
        "id": "1F_PZdH9Sh49"
      },
      "source": [
        "# Question 2\n",
        "(25 points). Write a program that will do the following string formatting tasks:\n",
        "\n",
        "(1) Ask the user to enter two sentences.\n",
        "\n",
        "(2) Make each sentence into a list. Each element in the list should correspond to a word in the sentence. For example, if the sentence is \"Alas! Am I alive? This is my first python program\", the program should print out ['Alas, '!', 'Am', 'I', 'alive, '?', 'This', 'is', 'my', 'first', 'python', 'program'].\n",
        "\n",
        "(3) Compare the two sentences. Print out a list of words that occur in both sentences.\n",
        "\n",
        "(4) Remove any punctuation from the sentence and print it back out. It should remove at least the following characters, but it can remove more: period(“.”), comma (“,”), semicolon (“;”), and colon (“:”)\n",
        "\n",
        "(5) Count the number of vowels in the sentences. Print out each vowel and the number of times it appears in the sentences, such as: a:2, e:1, i:0, etc"
      ]
    },
    {
      "cell_type": "code",
      "source": [
        "import nltk\n",
        "nltk.download('punkt')"
      ],
      "metadata": {
        "colab": {
          "base_uri": "https://localhost:8080/"
        },
        "id": "EXZ-Vh2xSMhm",
        "outputId": "07255c91-6880-45f6-a637-9dbe60f45fe6"
      },
      "execution_count": 28,
      "outputs": [
        {
          "output_type": "stream",
          "name": "stdout",
          "text": [
            "[nltk_data] Downloading package punkt to /root/nltk_data...\n",
            "[nltk_data]   Unzipping tokenizers/punkt.zip.\n"
          ]
        },
        {
          "output_type": "execute_result",
          "data": {
            "text/plain": [
              "True"
            ]
          },
          "metadata": {},
          "execution_count": 28
        }
      ]
    },
    {
      "cell_type": "code",
      "execution_count": 29,
      "metadata": {
        "id": "Y0oOSlsOS0cq",
        "colab": {
          "base_uri": "https://localhost:8080/"
        },
        "outputId": "7c818aca-3989-4442-89ff-ca58a1f94203"
      },
      "outputs": [
        {
          "output_type": "stream",
          "name": "stdout",
          "text": [
            "Please Enter the first sentence:I had lady fingers while the soldiers around me had hands made to strangle and calluses that grated their rifles into submission.\n",
            "Please Enter the second sentence:I told my niece about them in a letter home. She sent us drawings of dragons and horses in response.\n",
            "['I', 'had', 'lady', 'fingers', 'while', 'the', 'soldiers', 'around', 'me', 'had', 'hands', 'made', 'to', 'strangle', 'and', 'calluses', 'that', 'grated', 'their', 'rifles', 'into', 'submission', '.']\n",
            "['I', 'told', 'my', 'niece', 'about', 'them', 'in', 'a', 'letter', 'home', '.', 'She', 'sent', 'us', 'drawings', 'of', 'dragons', 'and', 'horses', 'in', 'response', '.']\n",
            "{'.', 'I', 'and'}\n",
            "['I', 'had', 'lady', 'fingers', 'while', 'the', 'soldiers', 'around', 'me', 'had', 'hands', 'made', 'to', 'strangle', 'and', 'calluses', 'that', 'grated', 'their', 'rifles', 'into', 'submission', '.']\n",
            "['I', 'told', 'my', 'niece', 'about', 'them', 'in', 'a', 'letter', 'home', '.', 'She', 'sent', 'us', 'drawings', 'of', 'dragons', 'and', 'horses', 'in', 'response', '.']\n",
            "The vowels in the first sentence are: {'a': 11, 'e': 11, 'i': 9, 'o': 5, 'u': 3}\n",
            "The vowels in the second sentence are: {'a': 5, 'e': 11, 'i': 5, 'o': 7, 'u': 2}\n"
          ]
        }
      ],
      "source": [
        "sentense1=str(input('Please Enter the first sentence:'))\n",
        "sentense2=str(input('Please Enter the second sentence:'))\n",
        "import nltk\n",
        "sr1 = nltk.word_tokenize(sentense1)\n",
        "sr2 = nltk.word_tokenize(sentense2)\n",
        "print(sr1)\n",
        "print(sr2)\n",
        "#Comparing the two sentences and printing words occuring in both\n",
        "print(set(sr1) & set(sr2))\n",
        "#remove punctuations\n",
        "from nltk.tokenize import RegexpTokenizer\n",
        "tokenizer = RegexpTokenizer(r'\\w+')\n",
        "s11=tokenizer.tokenize(sentense1)\n",
        "s22=tokenizer.tokenize(sentense2)\n",
        "print(sr1)\n",
        "print(sr2)\n",
        "#counting vowels\n",
        "vsk1 = sentense1.lower()\n",
        "vsk2 = sentense2.lower()\n",
        "vowel_counts1 = {}\n",
        "vowel_counts2 = {}\n",
        "for vowel in \"aeiou\":\n",
        " count1 = vsk1.count(vowel)\n",
        " vowel_counts1[vowel] = count1\n",
        " count2 = vsk2.count(vowel)\n",
        " vowel_counts2[vowel] = count2\n",
        "print('The vowels in the first sentence are:', vowel_counts1)\n",
        "print('The vowels in the second sentence are:', vowel_counts2)"
      ]
    },
    {
      "cell_type": "markdown",
      "metadata": {
        "id": "CmFoI4jDS9nx"
      },
      "source": [
        "# Question 3 \n",
        "\n",
        "(15 points). The formula that describes the volume V of a sphere with radius r is the following:\n",
        "\n",
        "$ V=\\frac{4}{3}\\ast\\ \\pi\\ast\\ r^3 $\n",
        "\n",
        "Write a program to calculate the value of V when r is in the range of 1–10. Output the result in the following format:\n",
        "\n",
        "\tr\tV\n",
        "\t1\t…\n",
        "\t2\t…\n",
        "\t3\t…\n"
      ]
    },
    {
      "cell_type": "code",
      "execution_count": 22,
      "metadata": {
        "id": "pEyqeioAT95b",
        "colab": {
          "base_uri": "https://localhost:8080/"
        },
        "outputId": "2f42f846-d25e-4ec8-cae6-08e2d230ced5"
      },
      "outputs": [
        {
          "output_type": "stream",
          "name": "stdout",
          "text": [
            "r \n",
            "2\n",
            "V \n",
            " 33.510321638291124\n"
          ]
        }
      ],
      "source": [
        "# Your code here\n",
        "\n",
        "pi = 3.1415926535897931\n",
        "try:\n",
        "    r= int(input('r \\n'))\n",
        "    if r>=1 and r<=10:\n",
        "      V = 4.0/3.0*pi* r**3\n",
        "   #for\n",
        "      print('V \\n',V)\n",
        "    elif r <= 0:\n",
        "         print('The radius can not be zero or a negative value')\n",
        "    else:\n",
        "         print('radius is out of range')\n",
        "except ValueError:\n",
        " print('The radius is not valid')\n"
      ]
    },
    {
      "cell_type": "markdown",
      "metadata": {
        "id": "z3tBE7E-Xn5X"
      },
      "source": [
        "# Question 4\n",
        "\n",
        "(40 points). In the field of Data Science, data is often formatted as a comma-delimited (CSV) file, where each line in a file corresponds to a field's value. Refer to Chapter 9 (p. 106) for more information on comma-delimited files. To answer this question, you will need to download the file [Assignment1_denton_housing.csv](https://raw.githubusercontent.com/unt-iialab/info5731-spring2022/main/assignments/Assignment1_denton_housing.csv) included with this assignment. The file [Assignment1_denton_housing.csv](https://raw.githubusercontent.com/unt-iialab/info5731-spring2022/main/assignments/Assignment1_denton_housing.csv) contains statistics about housing in the city of Denton from 2008 to 2014. Write a program to implement the following questions.\n",
        "\n",
        "(1) (10 pts) Calculate the difference in the number of Occupied Housing Units from year to year and print it. The difference must be calculated for the consecutive years such as 2008-2009, 2009-2010 etc. Finally, print the values in the ascending order.\n",
        "\n",
        "(2) (10 pts) For all the years, calculate the percentage of housing units which are vacant an occupied. Print the results in the following format:\n",
        "\n",
        "Year Vacant Housing Units Occupied Housing Units\n",
        "\n",
        "    2008  30%   70%                          \n",
        "\t2009 ----- -----\n",
        "\t2010 ----- -----\n",
        "    2011 ----- -----\n",
        "\t2012 ----- -----\n",
        "    2013 ----- -----\n",
        "\t2014 ----- -----\n",
        "  \n",
        "  \n",
        "\n",
        "(3) (10 pts) Calculate and print the valued and years in which the highest number of housing units were vacant and occupied. Print the results in the following format:  \n",
        "\n",
        "                              Year\tValue\n",
        "\tVacant Housing Units\t  -----   -----\n",
        "\tOccupied Housing Units\t-----   -----\n",
        "\n",
        "(4) (10 pts) Calculate the harmonic mean of the total housing units and print it out. You can find the information about harmonic mean here: https://ncalculators.com/statistics/harmonic-mean-calculator.htm"
      ]
    },
    {
      "cell_type": "code",
      "execution_count": 22,
      "metadata": {
        "id": "lqGYuHBhcsRH",
        "colab": {
          "base_uri": "https://localhost:8080/"
        },
        "outputId": "d9a0fa5f-0be9-47d3-9f96-f9738b3ace27"
      },
      "outputs": [
        {
          "output_type": "execute_result",
          "data": {
            "text/plain": [
              "[795, -5091, 303, -1404, -1565, -2622]"
            ]
          },
          "metadata": {},
          "execution_count": 22
        }
      ],
      "source": [
        "# Your code here\n",
        "#1\n",
        "\n",
        "import statistics\n",
        "import pandas as pd\n",
        "data = pd.read_csv(r'https://raw.githubusercontent.com/unt-iialab/info5731-spring2022/main/assignments/Assignment1_denton_housing.csv')\n",
        "\n",
        "#Calculate the difference in the number of Occupied Housing Units from year to year andprint it.\n",
        "#The difference must be calculated for the consecutive years such as 2008-2009, 2009-2010\n",
        "\n",
        "occuped_houses = data[data['title_field'] == 'Occupied Housing Units'].sort_values(by=['year'])\n",
        "\n",
        "# the difference in the number of Occupied Housing Units from year to year\n",
        "\n",
        "diff_house = [list(occuped_houses['value'].values)[loop] - list(occuped_houses['value'].values)[loop+1]\\\n",
        "for loop in range(len(occuped_houses)-1)]\n",
        "diff_house"
      ]
    },
    {
      "cell_type": "code",
      "source": [
        "#2\n",
        "# calculate the percentage of housing units which are vacant and occupied.\n",
        "\n",
        "unique_years = sorted(list(data['year'].unique())) # legging list of unique year number\n",
        "\n",
        "# number of ocupied houses\n",
        "\n",
        "occuped_houses = data[data['title_field'] == 'Occupied Housing Units'].sort_values(by=[\n",
        "'year'])\n",
        "\n",
        "# number of vacant houses\n",
        "\n",
        "vacant_houses = data[data['title_field'] == 'Vacant Housing Units'].sort_values(by=['year'])\n",
        "new_house_df = pd.DataFrame()\n",
        "new_house_df['year'] = unique_years\n",
        "new_house_df['Vacant House'] = vacant_houses['value'].values\n",
        "new_house_df['Occupied House'] = occuped_houses['value'].values\n",
        "new_house_df['Percent of Vacant House'] = [(new_house_df['Vacant House'][loop] * 100) /\n",
        "\\\n",
        "(new_house_df['Vacant House'][loop] + new_house_df['Occupied House']\n",
        "[loop])\\\n",
        "\n",
        "for loop in range(len(new_house_df))]\n",
        "new_house_df['Percent of Occupied House'] = [(new_house_df['Occupied House'][loop] * 100) /\\\n",
        "(new_house_df['Vacant House'][loop] + new_house_df['Occupied House']\n",
        "[loop])\\\n",
        "\n",
        "for loop in range(len(new_house_df))]\n",
        "new_house_df"
      ],
      "metadata": {
        "colab": {
          "base_uri": "https://localhost:8080/",
          "height": 269
        },
        "id": "7MCJPyXUYeSV",
        "outputId": "d73fabb0-0171-4d3d-9138-8e0f83157961"
      },
      "execution_count": 26,
      "outputs": [
        {
          "output_type": "execute_result",
          "data": {
            "text/html": [
              "\n",
              "  <div id=\"df-f1b14e33-2c59-47dc-ba90-b1cc159b9dfb\">\n",
              "    <div class=\"colab-df-container\">\n",
              "      <div>\n",
              "<style scoped>\n",
              "    .dataframe tbody tr th:only-of-type {\n",
              "        vertical-align: middle;\n",
              "    }\n",
              "\n",
              "    .dataframe tbody tr th {\n",
              "        vertical-align: top;\n",
              "    }\n",
              "\n",
              "    .dataframe thead th {\n",
              "        text-align: right;\n",
              "    }\n",
              "</style>\n",
              "<table border=\"1\" class=\"dataframe\">\n",
              "  <thead>\n",
              "    <tr style=\"text-align: right;\">\n",
              "      <th></th>\n",
              "      <th>year</th>\n",
              "      <th>Vacant House</th>\n",
              "      <th>Occupied House</th>\n",
              "      <th>Percent of Vacant House</th>\n",
              "      <th>Percent of Occupied House</th>\n",
              "    </tr>\n",
              "  </thead>\n",
              "  <tbody>\n",
              "    <tr>\n",
              "      <th>0</th>\n",
              "      <td>2008</td>\n",
              "      <td>4483</td>\n",
              "      <td>36711</td>\n",
              "      <td>10.882653</td>\n",
              "      <td>89.117347</td>\n",
              "    </tr>\n",
              "    <tr>\n",
              "      <th>1</th>\n",
              "      <td>2009</td>\n",
              "      <td>3583</td>\n",
              "      <td>35916</td>\n",
              "      <td>9.071116</td>\n",
              "      <td>90.928884</td>\n",
              "    </tr>\n",
              "    <tr>\n",
              "      <th>2</th>\n",
              "      <td>2010</td>\n",
              "      <td>3635</td>\n",
              "      <td>41007</td>\n",
              "      <td>8.142556</td>\n",
              "      <td>91.857444</td>\n",
              "    </tr>\n",
              "    <tr>\n",
              "      <th>3</th>\n",
              "      <td>2011</td>\n",
              "      <td>4213</td>\n",
              "      <td>40704</td>\n",
              "      <td>9.379522</td>\n",
              "      <td>90.620478</td>\n",
              "    </tr>\n",
              "    <tr>\n",
              "      <th>4</th>\n",
              "      <td>2012</td>\n",
              "      <td>3013</td>\n",
              "      <td>42108</td>\n",
              "      <td>6.677600</td>\n",
              "      <td>93.322400</td>\n",
              "    </tr>\n",
              "    <tr>\n",
              "      <th>5</th>\n",
              "      <td>2013</td>\n",
              "      <td>4215</td>\n",
              "      <td>43673</td>\n",
              "      <td>8.801788</td>\n",
              "      <td>91.198212</td>\n",
              "    </tr>\n",
              "    <tr>\n",
              "      <th>6</th>\n",
              "      <td>2014</td>\n",
              "      <td>2814</td>\n",
              "      <td>46295</td>\n",
              "      <td>5.730111</td>\n",
              "      <td>94.269889</td>\n",
              "    </tr>\n",
              "  </tbody>\n",
              "</table>\n",
              "</div>\n",
              "      <button class=\"colab-df-convert\" onclick=\"convertToInteractive('df-f1b14e33-2c59-47dc-ba90-b1cc159b9dfb')\"\n",
              "              title=\"Convert this dataframe to an interactive table.\"\n",
              "              style=\"display:none;\">\n",
              "        \n",
              "  <svg xmlns=\"http://www.w3.org/2000/svg\" height=\"24px\"viewBox=\"0 0 24 24\"\n",
              "       width=\"24px\">\n",
              "    <path d=\"M0 0h24v24H0V0z\" fill=\"none\"/>\n",
              "    <path d=\"M18.56 5.44l.94 2.06.94-2.06 2.06-.94-2.06-.94-.94-2.06-.94 2.06-2.06.94zm-11 1L8.5 8.5l.94-2.06 2.06-.94-2.06-.94L8.5 2.5l-.94 2.06-2.06.94zm10 10l.94 2.06.94-2.06 2.06-.94-2.06-.94-.94-2.06-.94 2.06-2.06.94z\"/><path d=\"M17.41 7.96l-1.37-1.37c-.4-.4-.92-.59-1.43-.59-.52 0-1.04.2-1.43.59L10.3 9.45l-7.72 7.72c-.78.78-.78 2.05 0 2.83L4 21.41c.39.39.9.59 1.41.59.51 0 1.02-.2 1.41-.59l7.78-7.78 2.81-2.81c.8-.78.8-2.07 0-2.86zM5.41 20L4 18.59l7.72-7.72 1.47 1.35L5.41 20z\"/>\n",
              "  </svg>\n",
              "      </button>\n",
              "      \n",
              "  <style>\n",
              "    .colab-df-container {\n",
              "      display:flex;\n",
              "      flex-wrap:wrap;\n",
              "      gap: 12px;\n",
              "    }\n",
              "\n",
              "    .colab-df-convert {\n",
              "      background-color: #E8F0FE;\n",
              "      border: none;\n",
              "      border-radius: 50%;\n",
              "      cursor: pointer;\n",
              "      display: none;\n",
              "      fill: #1967D2;\n",
              "      height: 32px;\n",
              "      padding: 0 0 0 0;\n",
              "      width: 32px;\n",
              "    }\n",
              "\n",
              "    .colab-df-convert:hover {\n",
              "      background-color: #E2EBFA;\n",
              "      box-shadow: 0px 1px 2px rgba(60, 64, 67, 0.3), 0px 1px 3px 1px rgba(60, 64, 67, 0.15);\n",
              "      fill: #174EA6;\n",
              "    }\n",
              "\n",
              "    [theme=dark] .colab-df-convert {\n",
              "      background-color: #3B4455;\n",
              "      fill: #D2E3FC;\n",
              "    }\n",
              "\n",
              "    [theme=dark] .colab-df-convert:hover {\n",
              "      background-color: #434B5C;\n",
              "      box-shadow: 0px 1px 3px 1px rgba(0, 0, 0, 0.15);\n",
              "      filter: drop-shadow(0px 1px 2px rgba(0, 0, 0, 0.3));\n",
              "      fill: #FFFFFF;\n",
              "    }\n",
              "  </style>\n",
              "\n",
              "      <script>\n",
              "        const buttonEl =\n",
              "          document.querySelector('#df-f1b14e33-2c59-47dc-ba90-b1cc159b9dfb button.colab-df-convert');\n",
              "        buttonEl.style.display =\n",
              "          google.colab.kernel.accessAllowed ? 'block' : 'none';\n",
              "\n",
              "        async function convertToInteractive(key) {\n",
              "          const element = document.querySelector('#df-f1b14e33-2c59-47dc-ba90-b1cc159b9dfb');\n",
              "          const dataTable =\n",
              "            await google.colab.kernel.invokeFunction('convertToInteractive',\n",
              "                                                     [key], {});\n",
              "          if (!dataTable) return;\n",
              "\n",
              "          const docLinkHtml = 'Like what you see? Visit the ' +\n",
              "            '<a target=\"_blank\" href=https://colab.research.google.com/notebooks/data_table.ipynb>data table notebook</a>'\n",
              "            + ' to learn more about interactive tables.';\n",
              "          element.innerHTML = '';\n",
              "          dataTable['output_type'] = 'display_data';\n",
              "          await google.colab.output.renderOutput(dataTable, element);\n",
              "          const docLink = document.createElement('div');\n",
              "          docLink.innerHTML = docLinkHtml;\n",
              "          element.appendChild(docLink);\n",
              "        }\n",
              "      </script>\n",
              "    </div>\n",
              "  </div>\n",
              "  "
            ],
            "text/plain": [
              "   year  Vacant House  ...  Percent of Vacant House  Percent of Occupied House\n",
              "0  2008          4483  ...                10.882653                  89.117347\n",
              "1  2009          3583  ...                 9.071116                  90.928884\n",
              "2  2010          3635  ...                 8.142556                  91.857444\n",
              "3  2011          4213  ...                 9.379522                  90.620478\n",
              "4  2012          3013  ...                 6.677600                  93.322400\n",
              "5  2013          4215  ...                 8.801788                  91.198212\n",
              "6  2014          2814  ...                 5.730111                  94.269889\n",
              "\n",
              "[7 rows x 5 columns]"
            ]
          },
          "metadata": {},
          "execution_count": 26
        }
      ]
    },
    {
      "cell_type": "code",
      "source": [
        "#3\n",
        "\n",
        "max_vacant_houses = max(data[data['title_field'] == 'Vacant Housing Units'].value)\n",
        "vacant_houses = vacant_houses[vacant_houses['value'] == max_vacant_houses]\n",
        "vacant_houses\n",
        "# the highest number of Occupied housing units\n",
        "max_occuped_houses = max(data[data['title_field'] == 'Occupied Housing Units'].value)\n",
        "occuped_houses = occuped_houses[occuped_houses['value'] == max_occuped_houses]\n",
        "occuped_houses"
      ],
      "metadata": {
        "colab": {
          "base_uri": "https://localhost:8080/",
          "height": 81
        },
        "id": "3nqqTj_zaFz2",
        "outputId": "397564a9-fa96-4b53-9d0b-cba8da1879de"
      },
      "execution_count": 24,
      "outputs": [
        {
          "output_type": "execute_result",
          "data": {
            "text/html": [
              "\n",
              "  <div id=\"df-2bdbf402-8560-4fa1-87b0-27ed331f56b4\">\n",
              "    <div class=\"colab-df-container\">\n",
              "      <div>\n",
              "<style scoped>\n",
              "    .dataframe tbody tr th:only-of-type {\n",
              "        vertical-align: middle;\n",
              "    }\n",
              "\n",
              "    .dataframe tbody tr th {\n",
              "        vertical-align: top;\n",
              "    }\n",
              "\n",
              "    .dataframe thead th {\n",
              "        text-align: right;\n",
              "    }\n",
              "</style>\n",
              "<table border=\"1\" class=\"dataframe\">\n",
              "  <thead>\n",
              "    <tr style=\"text-align: right;\">\n",
              "      <th></th>\n",
              "      <th>year</th>\n",
              "      <th>title_field</th>\n",
              "      <th>value</th>\n",
              "    </tr>\n",
              "  </thead>\n",
              "  <tbody>\n",
              "    <tr>\n",
              "      <th>2</th>\n",
              "      <td>2014</td>\n",
              "      <td>Occupied Housing Units</td>\n",
              "      <td>46295</td>\n",
              "    </tr>\n",
              "  </tbody>\n",
              "</table>\n",
              "</div>\n",
              "      <button class=\"colab-df-convert\" onclick=\"convertToInteractive('df-2bdbf402-8560-4fa1-87b0-27ed331f56b4')\"\n",
              "              title=\"Convert this dataframe to an interactive table.\"\n",
              "              style=\"display:none;\">\n",
              "        \n",
              "  <svg xmlns=\"http://www.w3.org/2000/svg\" height=\"24px\"viewBox=\"0 0 24 24\"\n",
              "       width=\"24px\">\n",
              "    <path d=\"M0 0h24v24H0V0z\" fill=\"none\"/>\n",
              "    <path d=\"M18.56 5.44l.94 2.06.94-2.06 2.06-.94-2.06-.94-.94-2.06-.94 2.06-2.06.94zm-11 1L8.5 8.5l.94-2.06 2.06-.94-2.06-.94L8.5 2.5l-.94 2.06-2.06.94zm10 10l.94 2.06.94-2.06 2.06-.94-2.06-.94-.94-2.06-.94 2.06-2.06.94z\"/><path d=\"M17.41 7.96l-1.37-1.37c-.4-.4-.92-.59-1.43-.59-.52 0-1.04.2-1.43.59L10.3 9.45l-7.72 7.72c-.78.78-.78 2.05 0 2.83L4 21.41c.39.39.9.59 1.41.59.51 0 1.02-.2 1.41-.59l7.78-7.78 2.81-2.81c.8-.78.8-2.07 0-2.86zM5.41 20L4 18.59l7.72-7.72 1.47 1.35L5.41 20z\"/>\n",
              "  </svg>\n",
              "      </button>\n",
              "      \n",
              "  <style>\n",
              "    .colab-df-container {\n",
              "      display:flex;\n",
              "      flex-wrap:wrap;\n",
              "      gap: 12px;\n",
              "    }\n",
              "\n",
              "    .colab-df-convert {\n",
              "      background-color: #E8F0FE;\n",
              "      border: none;\n",
              "      border-radius: 50%;\n",
              "      cursor: pointer;\n",
              "      display: none;\n",
              "      fill: #1967D2;\n",
              "      height: 32px;\n",
              "      padding: 0 0 0 0;\n",
              "      width: 32px;\n",
              "    }\n",
              "\n",
              "    .colab-df-convert:hover {\n",
              "      background-color: #E2EBFA;\n",
              "      box-shadow: 0px 1px 2px rgba(60, 64, 67, 0.3), 0px 1px 3px 1px rgba(60, 64, 67, 0.15);\n",
              "      fill: #174EA6;\n",
              "    }\n",
              "\n",
              "    [theme=dark] .colab-df-convert {\n",
              "      background-color: #3B4455;\n",
              "      fill: #D2E3FC;\n",
              "    }\n",
              "\n",
              "    [theme=dark] .colab-df-convert:hover {\n",
              "      background-color: #434B5C;\n",
              "      box-shadow: 0px 1px 3px 1px rgba(0, 0, 0, 0.15);\n",
              "      filter: drop-shadow(0px 1px 2px rgba(0, 0, 0, 0.3));\n",
              "      fill: #FFFFFF;\n",
              "    }\n",
              "  </style>\n",
              "\n",
              "      <script>\n",
              "        const buttonEl =\n",
              "          document.querySelector('#df-2bdbf402-8560-4fa1-87b0-27ed331f56b4 button.colab-df-convert');\n",
              "        buttonEl.style.display =\n",
              "          google.colab.kernel.accessAllowed ? 'block' : 'none';\n",
              "\n",
              "        async function convertToInteractive(key) {\n",
              "          const element = document.querySelector('#df-2bdbf402-8560-4fa1-87b0-27ed331f56b4');\n",
              "          const dataTable =\n",
              "            await google.colab.kernel.invokeFunction('convertToInteractive',\n",
              "                                                     [key], {});\n",
              "          if (!dataTable) return;\n",
              "\n",
              "          const docLinkHtml = 'Like what you see? Visit the ' +\n",
              "            '<a target=\"_blank\" href=https://colab.research.google.com/notebooks/data_table.ipynb>data table notebook</a>'\n",
              "            + ' to learn more about interactive tables.';\n",
              "          element.innerHTML = '';\n",
              "          dataTable['output_type'] = 'display_data';\n",
              "          await google.colab.output.renderOutput(dataTable, element);\n",
              "          const docLink = document.createElement('div');\n",
              "          docLink.innerHTML = docLinkHtml;\n",
              "          element.appendChild(docLink);\n",
              "        }\n",
              "      </script>\n",
              "    </div>\n",
              "  </div>\n",
              "  "
            ],
            "text/plain": [
              "   year             title_field  value\n",
              "2  2014  Occupied Housing Units  46295"
            ]
          },
          "metadata": {},
          "execution_count": 24
        }
      ]
    },
    {
      "cell_type": "code",
      "source": [
        "#4\n",
        "# the harmonic mean .\n",
        "\n",
        "print(statistics.harmonic_mean(list(data[data['title_field'] == 'Total Housing Units'].\n",
        "value)))"
      ],
      "metadata": {
        "colab": {
          "base_uri": "https://localhost:8080/"
        },
        "id": "DudCAdp9fA_Q",
        "outputId": "79700afe-2fa3-4574-c980-73b2b52147ac"
      },
      "execution_count": 25,
      "outputs": [
        {
          "output_type": "stream",
          "name": "stdout",
          "text": [
            "44398.28543969185\n"
          ]
        }
      ]
    }
  ],
  "metadata": {
    "colab": {
      "collapsed_sections": [],
      "name": "INFO5731_Assignment_One.ipynb",
      "provenance": [],
      "include_colab_link": true
    },
    "kernelspec": {
      "display_name": "Python 3",
      "language": "python",
      "name": "python3"
    },
    "language_info": {
      "codemirror_mode": {
        "name": "ipython",
        "version": 3
      },
      "file_extension": ".py",
      "mimetype": "text/x-python",
      "name": "python",
      "nbconvert_exporter": "python",
      "pygments_lexer": "ipython3",
      "version": "3.8.5"
    }
  },
  "nbformat": 4,
  "nbformat_minor": 0
}