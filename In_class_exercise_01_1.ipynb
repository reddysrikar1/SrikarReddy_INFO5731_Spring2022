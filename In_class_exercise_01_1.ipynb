{
  "cells": [
    {
      "cell_type": "markdown",
      "metadata": {
        "id": "view-in-github",
        "colab_type": "text"
      },
      "source": [
        "<a href=\"https://colab.research.google.com/github/reddysrikar1/SrikarReddy_INFO5731_Spring2022/blob/main/In_class_exercise_01_1.ipynb\" target=\"_parent\"><img src=\"https://colab.research.google.com/assets/colab-badge.svg\" alt=\"Open In Colab\"/></a>"
      ]
    },
    {
      "cell_type": "markdown",
      "metadata": {
        "id": "DymRJbxDBCnf"
      },
      "source": [
        "# **The first In-class-exercise (01/25/2022, 40 points in total)**"
      ]
    },
    {
      "cell_type": "markdown",
      "metadata": {
        "id": "03jb4GZsBkBS"
      },
      "source": [
        "(1) Write a Python program to calculate the length of a string. (4 points)"
      ]
    },
    {
      "cell_type": "code",
      "execution_count": 1,
      "metadata": {
        "colab": {
          "base_uri": "https://localhost:8080/"
        },
        "id": "YaGLbSHHB8Ej",
        "outputId": "d144ef19-6245-4722-c8fa-01e8544a9781"
      },
      "outputs": [
        {
          "output_type": "stream",
          "name": "stdout",
          "text": [
            "7\n"
          ]
        }
      ],
      "source": [
        "# write your answer here\n",
        "\n",
        "r = 'history'\n",
        "print(len(r))"
      ]
    },
    {
      "cell_type": "markdown",
      "metadata": {
        "id": "jJDe71iLB616"
      },
      "source": [
        "(2) Write a Python program to count the number of characters in a string. (4 points)\n",
        "\n",
        "Sample String : 'google.com‘, \n",
        "\n",
        "Expected Result : {'o': 3, 'g': 2, '.': 1, 'e': 1, 'l': 1, 'm': 1, 'c': 1}"
      ]
    },
    {
      "cell_type": "code",
      "execution_count": 18,
      "metadata": {
        "colab": {
          "base_uri": "https://localhost:8080/"
        },
        "id": "MtKskTzbCLaU",
        "outputId": "98389bc2-c592-4e55-b9c3-174a242bac16"
      },
      "outputs": [
        {
          "output_type": "stream",
          "name": "stdout",
          "text": [
            "{'v': 1, 'e': 3, 'r': 2, 's': 2, '_': 1, 'b': 1, 'i': 1, 'd': 1}\n"
          ]
        }
      ],
      "source": [
        "# write your answer here\n",
        "\n",
        "def char_count(s1):\n",
        "    dict = {}\n",
        "    for j in s1:\n",
        "        keys = dict.keys()\n",
        "        if j in keys:\n",
        "            dict[j] += 1\n",
        "        else:\n",
        "            dict[j] = 1\n",
        "    return dict\n",
        "print(char_count('verees_birds'))"
      ]
    },
    {
      "cell_type": "markdown",
      "metadata": {
        "id": "55W9AMdXCSpV"
      },
      "source": [
        "(3) Write a Python program to sum all the items in a list. (4 points)"
      ]
    },
    {
      "cell_type": "code",
      "execution_count": 5,
      "metadata": {
        "colab": {
          "base_uri": "https://localhost:8080/"
        },
        "id": "I57NXsauCec2",
        "outputId": "65ead0e3-d66a-42f3-c236-4e3cf8643024"
      },
      "outputs": [
        {
          "output_type": "stream",
          "name": "stdout",
          "text": [
            "6\n"
          ]
        }
      ],
      "source": [
        "# write your answer here\n",
        "\n",
        "def sum_list(items):\n",
        "  total_sum = 0;\n",
        "  for a in items:\n",
        "    total_sum += a\n",
        "  return total_sum;\n",
        "print(sum_list([3, 7, -4]))"
      ]
    },
    {
      "cell_type": "markdown",
      "metadata": {
        "id": "4ulBZ6yhCi9F"
      },
      "source": [
        "(4) Write a Python program to get a string from a given string where all occurrences of its first char have been changed to '\\$', except the first char itself. (4 points)\n",
        "\n",
        "Sample String : 'restart‘, \n",
        "\n",
        "Expected Result : 'resta\\$t'"
      ]
    },
    {
      "cell_type": "code",
      "execution_count": 7,
      "metadata": {
        "colab": {
          "base_uri": "https://localhost:8080/"
        },
        "id": "Fj0XhwbBCw2o",
        "outputId": "403fada9-f6f7-418f-8f84-5fc1808160ca"
      },
      "outputs": [
        {
          "output_type": "stream",
          "name": "stdout",
          "text": [
            "pa$er\n"
          ]
        }
      ],
      "source": [
        "# write your answer here\n",
        "\n",
        "def replace_char(s1):\n",
        "  char = s1[0]\n",
        "  s1 = s1.replace(char, '$')\n",
        "  s1 = char + s1[1:]\n",
        "\n",
        "  return s1\n",
        "print(replace_char('paper'))"
      ]
    },
    {
      "cell_type": "markdown",
      "metadata": {
        "id": "_bIP7s1MCzue"
      },
      "source": [
        "(5) Write a program with python which could accept two parameter a and b to calculate and output the result of S, where \n",
        "\n",
        "$\\ S=3.14*(1+a/b)^3$ (4 points)\n",
        "\n"
      ]
    },
    {
      "cell_type": "code",
      "execution_count": 19,
      "metadata": {
        "colab": {
          "base_uri": "https://localhost:8080/"
        },
        "id": "w79QilHXD3Mg",
        "outputId": "db608a8b-f157-422b-ceb1-481e79dc8baa"
      },
      "outputs": [
        {
          "output_type": "stream",
          "name": "stdout",
          "text": [
            "the value of S is 10.5975\n"
          ]
        }
      ],
      "source": [
        "# write your answer here\n",
        "\n",
        "a = 3\n",
        "b = 6\n",
        "\n",
        "S = 3.14 * (1 + a/b)**3\n",
        "\n",
        "print(\"the value of S is\", S)"
      ]
    },
    {
      "cell_type": "markdown",
      "metadata": {
        "id": "xCa2bK9aD4Q3"
      },
      "source": [
        "(6) Write a Python program to concatenate following dictionaries to create a new one. (4 points)\n",
        "\n",
        "Sample Dictionary : dic1={1:10, 2:20}, dic2={3:30, 4:40}, dic3={5:50,6:60}, \n",
        "\n",
        "Expected Result : {1: 10, 2: 20, 3: 30, 4: 40, 5: 50, 6: 60}\n"
      ]
    },
    {
      "cell_type": "code",
      "execution_count": 22,
      "metadata": {
        "colab": {
          "base_uri": "https://localhost:8080/"
        },
        "id": "_z4aLqAbEET1",
        "outputId": "7cb74c65-b32e-4b96-e19f-3469f3ee554f"
      },
      "outputs": [
        {
          "output_type": "stream",
          "name": "stdout",
          "text": [
            "{1: 10, 2: 20, 3: 30, 4: 40, 5: 50, 6: 60}\n"
          ]
        }
      ],
      "source": [
        "# write your answer here\n",
        "\n",
        "dic1 = {1:10, 2:20}\n",
        "dic2 = {3:30, 4:40}\n",
        "dic3 = {5:50,6:60}\n",
        "\n",
        "result = {}\n",
        "\n",
        "for d in (dic1, dic2, dic3): result.update(d)\n",
        "print(result)"
      ]
    },
    {
      "cell_type": "markdown",
      "metadata": {
        "id": "0v48Vqa7FrQh"
      },
      "source": [
        "(7) Write a Python program to check whether an element exists within a tuple. (4 points)"
      ]
    },
    {
      "cell_type": "code",
      "execution_count": 11,
      "metadata": {
        "colab": {
          "base_uri": "https://localhost:8080/"
        },
        "id": "7WEmgq-DF2P1",
        "outputId": "b35940d9-173a-4157-c0fa-27b27b50b93b"
      },
      "outputs": [
        {
          "output_type": "stream",
          "name": "stdout",
          "text": [
            "True\n",
            "True\n"
          ]
        }
      ],
      "source": [
        "# write your answer here\n",
        "\n",
        "mytuple = (\"row\", \"week\", \"man\", \"rod\", \"f1\")\n",
        "print(\"man\" in mytuple)\n",
        "print(\"f1\" in mytuple)"
      ]
    },
    {
      "cell_type": "markdown",
      "metadata": {
        "id": "vD5PYLMuGga_"
      },
      "source": [
        "(8) Write a Python program to find maximum and the minimum value in a set. (4 points)"
      ]
    },
    {
      "cell_type": "code",
      "execution_count": 5,
      "metadata": {
        "colab": {
          "base_uri": "https://localhost:8080/"
        },
        "id": "t0D5kdJUGjjw",
        "outputId": "99f61e0b-905f-4fa4-a204-9b4591bb742a"
      },
      "outputs": [
        {
          "output_type": "stream",
          "name": "stdout",
          "text": [
            "<class 'list'>\n",
            "43\n",
            "1\n"
          ]
        }
      ],
      "source": [
        "# write your answer here\n",
        "\n",
        "sets = [3, 5, 1, 18, 11, 43]\n",
        "\n",
        "print(type(sets))\n",
        "print(max(sets))\n",
        "print(min(sets))"
      ]
    },
    {
      "cell_type": "markdown",
      "metadata": {
        "id": "uHkd-y5VhVWC"
      },
      "source": [
        "(9) Write a Python program to randomly divide the students in this class into six groups for term projects, each group should have at least 4 students but no more than 6 students (including 6). Here is the students list: (4 points)\n",
        "\n",
        "studnet_list = ['ja0964','sa1198','sb1357','vb0218','sc1229','kg0569','kg0470','sg1297','bg0320','fh0141','jl1252','sk1386',\n",
        "           'ak0956','sk1390','sk1458','sk1313','ak0934','vm0377','nm0618','sm1640','sm1907','gn0108','pr0353','dr0609','ms1500','aos0040','ds0814', 'av0659','nv0234','hy0232']"
      ]
    },
    {
      "cell_type": "code",
      "execution_count": 6,
      "metadata": {
        "id": "3iGbmcOBhTwy"
      },
      "outputs": [],
      "source": [
        "# write your answer here\n",
        "\n",
        "def divide_stud(sk):\n",
        "  \n",
        "  studnet_list = ['ja0964','sa1198','sb1357','vb0218','sc1229','kg0569','kg0470','sg1297','bg0320','fh0141','jl1252','sk1386', 'ak0956','sk1390','sk1458','sk1313','ak0934','vm0377','nm0618','sm1640','sm1907','gn0108','pr0353','dr0609','ms1500','aos0040','ds0814', 'av0659','nv0234','hy0232']\n"
      ]
    },
    {
      "cell_type": "markdown",
      "metadata": {
        "id": "ubKkvaosbcaZ"
      },
      "source": [
        "(10) Write a Python program to find the duplicate elements in a given array of integers. Return -1 If there are no such elements. (4 points)"
      ]
    },
    {
      "cell_type": "code",
      "execution_count": 20,
      "metadata": {
        "colab": {
          "base_uri": "https://localhost:8080/"
        },
        "id": "DK-lkffHbcaZ",
        "outputId": "f43f0126-4ca5-4449-a5ae-a7282eb24392"
      },
      "outputs": [
        {
          "output_type": "stream",
          "name": "stdout",
          "text": [
            "6\n",
            "13\n",
            "-1\n"
          ]
        }
      ],
      "source": [
        "# write your answer here\n",
        "\n",
        "def dup_int(s1):\n",
        "  non_dup = -1\n",
        "  ele = set()\n",
        "  for i in range(len(s1)):\n",
        "\n",
        "        if s1[i] in ele:\n",
        "            return s1[i]\n",
        "        else:\n",
        "            ele.add(s1[i])\n",
        "\n",
        "  return non_dup\n",
        "print(dup_int([3, 4, 5, 6, 6, 7]))\n",
        "print(dup_int([11, 12, 13, 13]))\n",
        "print(dup_int([21, 22, 23]))"
      ]
    },
    {
      "cell_type": "markdown",
      "metadata": {
        "id": "gy_J3Axobcaa"
      },
      "source": [
        "(11) Write a Python program to select all the Sundays of a specified year. (4 extra points)"
      ]
    },
    {
      "cell_type": "code",
      "execution_count": 4,
      "metadata": {
        "colab": {
          "base_uri": "https://localhost:8080/"
        },
        "id": "GRRdKc6_bcaa",
        "outputId": "adadcb2b-dd5f-4751-b611-1c514d0ce601"
      },
      "outputs": [
        {
          "output_type": "stream",
          "name": "stdout",
          "text": [
            "1999-01-03\n",
            "1999-01-10\n",
            "1999-01-17\n",
            "1999-01-24\n",
            "1999-01-31\n",
            "1999-02-07\n",
            "1999-02-14\n",
            "1999-02-21\n",
            "1999-02-28\n",
            "1999-03-07\n",
            "1999-03-14\n",
            "1999-03-21\n",
            "1999-03-28\n",
            "1999-04-04\n",
            "1999-04-11\n",
            "1999-04-18\n",
            "1999-04-25\n",
            "1999-05-02\n",
            "1999-05-09\n",
            "1999-05-16\n",
            "1999-05-23\n",
            "1999-05-30\n",
            "1999-06-06\n",
            "1999-06-13\n",
            "1999-06-20\n",
            "1999-06-27\n",
            "1999-07-04\n",
            "1999-07-11\n",
            "1999-07-18\n",
            "1999-07-25\n",
            "1999-08-01\n",
            "1999-08-08\n",
            "1999-08-15\n",
            "1999-08-22\n",
            "1999-08-29\n",
            "1999-09-05\n",
            "1999-09-12\n",
            "1999-09-19\n",
            "1999-09-26\n",
            "1999-10-03\n",
            "1999-10-10\n",
            "1999-10-17\n",
            "1999-10-24\n",
            "1999-10-31\n",
            "1999-11-07\n",
            "1999-11-14\n",
            "1999-11-21\n",
            "1999-11-28\n",
            "1999-12-05\n",
            "1999-12-12\n",
            "1999-12-19\n",
            "1999-12-26\n"
          ]
        }
      ],
      "source": [
        "# write your answer here\n",
        "\n",
        "from datetime import date, timedelta\n",
        "\n",
        "def all_sundays(year):\n",
        "\n",
        "       k = date(year, 1, 1)\n",
        "       \n",
        "       k += timedelta(days = 6 - k.weekday())  \n",
        "       while k.year == year:\n",
        "          yield k\n",
        "          k += timedelta(days = 7)\n",
        "          \n",
        "for s in all_sundays(1999):\n",
        "   print(s)"
      ]
    }
  ],
  "metadata": {
    "colab": {
      "collapsed_sections": [],
      "name": "In_class_exercise_01-1.ipynb",
      "provenance": [],
      "include_colab_link": true
    },
    "kernelspec": {
      "display_name": "Python 3",
      "language": "python",
      "name": "python3"
    },
    "language_info": {
      "codemirror_mode": {
        "name": "ipython",
        "version": 3
      },
      "file_extension": ".py",
      "mimetype": "text/x-python",
      "name": "python",
      "nbconvert_exporter": "python",
      "pygments_lexer": "ipython3",
      "version": "3.8.5"
    }
  },
  "nbformat": 4,
  "nbformat_minor": 0
}